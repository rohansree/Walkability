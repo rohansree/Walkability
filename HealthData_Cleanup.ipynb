{
  "nbformat": 4,
  "nbformat_minor": 0,
  "metadata": {
    "colab": {
      "provenance": []
    },
    "kernelspec": {
      "name": "python3",
      "display_name": "Python 3"
    },
    "language_info": {
      "name": "python"
    }
  },
  "cells": [
    {
      "cell_type": "code",
      "execution_count": null,
      "metadata": {
        "colab": {
          "base_uri": "https://localhost:8080/"
        },
        "id": "pfNGRGCKksIm",
        "outputId": "79aabd86-fadb-418a-c007-826d64c72702"
      },
      "outputs": [
        {
          "output_type": "stream",
          "name": "stdout",
          "text": [
            "Mounted at /content/gdrive\n"
          ]
        }
      ],
      "source": [
        "## MOUNT GOOGLE DRIVE\n",
        "\n",
        "from google.colab import drive\n",
        "drive.mount('/content/gdrive')"
      ]
    },
    {
      "cell_type": "code",
      "source": [
        "## PACKAGE IMPORTS\n",
        "\n",
        "import pandas as pd\n",
        "import os\n",
        "import numpy as np"
      ],
      "metadata": {
        "id": "rDM7Zfj2k4Y7"
      },
      "execution_count": null,
      "outputs": []
    },
    {
      "cell_type": "code",
      "source": [
        "## IMPORT DATA FILES\n",
        "\n",
        "THT_df = pd.read_csv('/content/gdrive/My Drive/ECE 225A Project (Walkability)/data/THT_Data_508_cleaned.csv') # transportation\n",
        "obesity_df = pd.read_csv('/content/gdrive/My Drive/ECE 225A Project (Walkability)/data/Obesity.csv')\n",
        "binge_drinking_df = pd.read_csv('/content/gdrive/My Drive/ECE 225A Project (Walkability)/data/Binge_Drinking.csv')\n",
        "mental_health_df = pd.read_csv('/content/gdrive/My Drive/ECE 225A Project (Walkability)/data/Mental_health.csv')\n"
      ],
      "metadata": {
        "id": "5VU2Fneuk7I9"
      },
      "execution_count": null,
      "outputs": []
    },
    {
      "cell_type": "code",
      "source": [
        "# REMOVE NO DATA ROWS\n",
        "def remove_empty_rows(df):\n",
        "    df = df.replace(\"\", np.nan)\n",
        "    return df.dropna(axis='rows')\n",
        "\n",
        "# AGGREGATE CITY DATA\n",
        "def aggregate_cities(df):\n",
        "    datacol = df.columns[5]\n",
        "    cleaned_list = []\n",
        "\n",
        "    df_splits = [v for k, v in df.groupby('CityName')]\n",
        "    for df_split in df_splits:\n",
        "      data_row = df_split.iloc[0]  # get first row of dataframe\n",
        "\n",
        "      tot_pop = np.sum(df_split['PopulationCount'])\n",
        "      w_avg = np.sum(df_split[datacol] * df_split['PopulationCount'])/tot_pop\n",
        "\n",
        "      data_row[datacol] = w_avg\n",
        "      data_row['PopulationCount'] = tot_pop\n",
        "      cleaned_list.append([data_row['citystate'], data_row[datacol]])\n",
        "\n",
        "    return pd.DataFrame(cleaned_list, columns = ['citystate', datacol])\n",
        "\n"
      ],
      "metadata": {
        "id": "VloVCasJmgGA"
      },
      "execution_count": null,
      "outputs": []
    },
    {
      "cell_type": "code",
      "source": [
        "city = 'San Francisco, CA'\n",
        "\n",
        "if (obesity_df['citystate'] == city).any():\n",
        "    print(f'{city} is in obesity file before modifications')\n",
        "\n",
        "if (binge_drinking_df['citystate'] == city).any():\n",
        "    print(f'{city} is in binge drinking file before modifications')\n",
        "\n",
        "if (mental_health_df['citystate'] == city).any():\n",
        "    print(f'{city} is in mental health file before modifications')"
      ],
      "metadata": {
        "colab": {
          "base_uri": "https://localhost:8080/"
        },
        "id": "rFGvcHYJM0dq",
        "outputId": "95d2592d-34ec-4aaa-a241-f95bc4192a50"
      },
      "execution_count": null,
      "outputs": [
        {
          "output_type": "stream",
          "name": "stdout",
          "text": [
            "San Francisco, CA is in obesity file before modifications\n",
            "San Francisco, CA is in binge drinking file before modifications\n",
            "San Francisco, CA is in mental health file before modifications\n"
          ]
        }
      ]
    },
    {
      "cell_type": "code",
      "source": [
        "## CLEAN FILES\n",
        "\n",
        "obesity_df = remove_empty_rows(obesity_df)\n",
        "obesity_cleaned_df = aggregate_cities(obesity_df)\n",
        "\n",
        "binge_drinking_df = remove_empty_rows(binge_drinking_df)\n",
        "binge_drinking_cleaned_df = aggregate_cities(binge_drinking_df)\n",
        "\n",
        "mental_health_df = remove_empty_rows(mental_health_df)\n",
        "mental_health_cleaned_df = aggregate_cities(mental_health_df)"
      ],
      "metadata": {
        "id": "_HYYH1PKxApr"
      },
      "execution_count": null,
      "outputs": []
    },
    {
      "cell_type": "code",
      "source": [
        "## MERGE DFS\n",
        "combined_df = obesity_cleaned_df.set_index('citystate').combine_first(binge_drinking_cleaned_df.set_index('citystate')).reset_index()\n",
        "combined_df = combined_df.set_index('citystate').combine_first(mental_health_cleaned_df.set_index('citystate')).reset_index()\n",
        "combined_df = remove_empty_rows(combined_df)\n",
        "\n",
        "combined_df.to_csv('/content/gdrive/My Drive/ECE 225A Project (Walkability)/data/combined_health.csv')\n"
      ],
      "metadata": {
        "id": "0uto6M4vwirm"
      },
      "execution_count": null,
      "outputs": []
    }
  ]
}